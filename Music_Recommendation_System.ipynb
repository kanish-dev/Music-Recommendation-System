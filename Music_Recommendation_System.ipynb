{
  "nbformat": 4,
  "nbformat_minor": 0,
  "metadata": {
    "colab": {
      "provenance": [],
      "authorship_tag": "ABX9TyNH5QJ1X7rzxi2SpSJqMmUO",
      "include_colab_link": true
    },
    "kernelspec": {
      "name": "python3",
      "display_name": "Python 3"
    },
    "language_info": {
      "name": "python"
    }
  },
  "cells": [
    {
      "cell_type": "markdown",
      "metadata": {
        "id": "view-in-github",
        "colab_type": "text"
      },
      "source": [
        "<a href=\"https://colab.research.google.com/github/kanish-dev/Music-Recommendation-System/blob/main/Music_Recommendation_System.ipynb\" target=\"_parent\"><img src=\"https://colab.research.google.com/assets/colab-badge.svg\" alt=\"Open In Colab\"/></a>"
      ]
    },
    {
      "cell_type": "code",
      "execution_count": null,
      "metadata": {
        "colab": {
          "base_uri": "https://localhost:8080/"
        },
        "id": "c6vAbg_r8GMa",
        "outputId": "b0123191-e265-4065-f876-928a5d345750"
      },
      "outputs": [
        {
          "output_type": "stream",
          "name": "stdout",
          "text": [
            "Hello World!\n"
          ]
        }
      ],
      "source": [
        "print(\"Hello World!\")"
      ]
    },
    {
      "cell_type": "code",
      "source": [
        "from os import access\n",
        "import requests\n",
        "import base64\n",
        "\n",
        "CLIENT_ID = 'XXXX'         # will be diffrent for every one create it and use\n",
        "CLIENT_SECRET = 'XXXX'     # will be diffrent for every one create it and use\n",
        "\n",
        "# Base64 encode the client ID and client secret\n",
        "client_credentials = f\"{CLIENT_ID}:{CLIENT_SECRET}\"\n",
        "client_credentials_base64 = base64.b64encode(client_credentials.encode())\n",
        "\n",
        "# Request the access token\n",
        "token_url = 'https://accounts.spotify.com/api/token'\n",
        "headers = {\n",
        "    'Authorization': f'Basic {client_credentials_base64.decode()}'\n",
        "}\n",
        "data = {\n",
        "    'grant_type':'client_credentials'\n",
        "}\n",
        "\n",
        "response = requests.post(token_url,data=data,headers=headers)\n",
        "\n",
        "if response.status_code ==200:\n",
        "  access_token = response.json()['access_token']\n",
        "  # print(access_token)\n",
        "  print('Access token obtained successfully 🤩.')\n",
        "\n",
        "else:\n",
        "  print('Error in obtaining token')\n",
        "  exit()\n"
      ],
      "metadata": {
        "colab": {
          "base_uri": "https://localhost:8080/"
        },
        "id": "5v0ob3jn8ap3",
        "outputId": "9849a281-1432-490b-a48a-8ff5ee96c7d0"
      },
      "execution_count": null,
      "outputs": [
        {
          "output_type": "stream",
          "name": "stdout",
          "text": [
            "Access token obtained successfully 🤩.\n"
          ]
        }
      ]
    },
    {
      "cell_type": "code",
      "source": [
        "! pip install spotipy"
      ],
      "metadata": {
        "colab": {
          "base_uri": "https://localhost:8080/"
        },
        "id": "t2h0RQsDB3DY",
        "outputId": "b9fd081c-8c8d-4a8a-8d1d-e80c545d0ef5"
      },
      "execution_count": null,
      "outputs": [
        {
          "output_type": "stream",
          "name": "stdout",
          "text": [
            "Collecting spotipy\n",
            "  Downloading spotipy-2.23.0-py3-none-any.whl (29 kB)\n",
            "Collecting redis>=3.5.3 (from spotipy)\n",
            "  Downloading redis-4.6.0-py3-none-any.whl (241 kB)\n",
            "\u001b[2K     \u001b[90m━━━━━━━━━━━━━━━━━━━━━━━━━━━━━━━━━━━━━━━\u001b[0m \u001b[32m241.1/241.1 kB\u001b[0m \u001b[31m5.9 MB/s\u001b[0m eta \u001b[36m0:00:00\u001b[0m\n",
            "\u001b[?25hRequirement already satisfied: requests>=2.25.0 in /usr/local/lib/python3.10/dist-packages (from spotipy) (2.27.1)\n",
            "Requirement already satisfied: six>=1.15.0 in /usr/local/lib/python3.10/dist-packages (from spotipy) (1.16.0)\n",
            "Requirement already satisfied: urllib3>=1.26.0 in /usr/local/lib/python3.10/dist-packages (from spotipy) (1.26.16)\n",
            "Requirement already satisfied: async-timeout>=4.0.2 in /usr/local/lib/python3.10/dist-packages (from redis>=3.5.3->spotipy) (4.0.2)\n",
            "Requirement already satisfied: certifi>=2017.4.17 in /usr/local/lib/python3.10/dist-packages (from requests>=2.25.0->spotipy) (2023.7.22)\n",
            "Requirement already satisfied: charset-normalizer~=2.0.0 in /usr/local/lib/python3.10/dist-packages (from requests>=2.25.0->spotipy) (2.0.12)\n",
            "Requirement already satisfied: idna<4,>=2.5 in /usr/local/lib/python3.10/dist-packages (from requests>=2.25.0->spotipy) (3.4)\n",
            "Installing collected packages: redis, spotipy\n",
            "Successfully installed redis-4.6.0 spotipy-2.23.0\n"
          ]
        }
      ]
    },
    {
      "cell_type": "code",
      "source": [
        "import pandas as pd\n",
        "import spotipy\n",
        "from spotipy.oauth2 import SpotifyOAuth\n",
        "\n",
        "def get_trending_playlist_data(playlist_id,access_token):\n",
        "\n",
        "  # Setup spotify with access token\n",
        "  sp = spotipy.Spotify(auth=access_token)\n",
        "\n",
        "  # get the tracks from the playlist\n",
        "  playlist_tracks = sp.playlist_tracks(playlist_id,fields='items(track(id,name,artists,album(id,name)))')\n",
        "  # print(playlist_tracks)\n",
        "\n",
        "  # extract relevant information and store in a list of dictonaries\n",
        "  music_data = []\n",
        "\n",
        "  for track_info in playlist_tracks['items']:\n",
        "    track = track_info['track']\n",
        "    track_name = track['name']\n",
        "    artists = ', '.join([artist['name'] for artist in track['artists']])\n",
        "    album_name = track['album']['name']\n",
        "    album_id = track['album']['id']\n",
        "    track_id = track['id']\n",
        "\n",
        "    # get the audion features of the track\n",
        "\n",
        "    audio_features = sp.audio_features(track_id)[0] if track_id != 'Not available' else None\n",
        "\n",
        "    # get the release date of the album\n",
        "\n",
        "    try :\n",
        "      album_info = sp.album(album_id) if album_id != 'Not available' else None\n",
        "      release_date = album_info['release_date'] if album_info else None\n",
        "\n",
        "    except:\n",
        "        release_date = None\n",
        "\n",
        "    # get the popularity of the track\n",
        "    try:\n",
        "      track_info = sp.track(track_id) if track_id != 'Not available' else None\n",
        "      popularity = track_info['popularity'] if track_info else None\n",
        "\n",
        "    except:\n",
        "       popularity = None\n",
        "\n",
        "     # Add additional track information to the track data\n",
        "    track_data = {\n",
        "            'Track Name': track_name,\n",
        "            'Artists': artists,\n",
        "            'Album Name': album_name,\n",
        "            'Album ID': album_id,\n",
        "            'Track ID': track_id,\n",
        "            'Popularity': popularity,\n",
        "            'Release Date': release_date,\n",
        "            'Duration (ms)': audio_features['duration_ms'] if audio_features else None,\n",
        "            'Explicit': track_info.get('explicit', None),\n",
        "            'External URLs': track_info.get('external_urls', {}).get('spotify', None),\n",
        "            'Danceability': audio_features['danceability'] if audio_features else None,\n",
        "            'Energy': audio_features['energy'] if audio_features else None,\n",
        "            'Key': audio_features['key'] if audio_features else None,\n",
        "            'Loudness': audio_features['loudness'] if audio_features else None,\n",
        "            'Mode': audio_features['mode'] if audio_features else None,\n",
        "            'Speechiness': audio_features['speechiness'] if audio_features else None,\n",
        "            'Acousticness': audio_features['acousticness'] if audio_features else None,\n",
        "            'Instrumentalness': audio_features['instrumentalness'] if audio_features else None,\n",
        "            'Liveness': audio_features['liveness'] if audio_features else None,\n",
        "            'Valence': audio_features['valence'] if audio_features else None,\n",
        "            'Tempo': audio_features['tempo'] if audio_features else None,\n",
        "\n",
        "        }\n",
        "    music_data.append(track_data)\n",
        "  # Create a pandas DataFrame from the list of dictionaries\n",
        "  df = pd.DataFrame(music_data)\n",
        "  return df"
      ],
      "metadata": {
        "id": "d3NLmAspCY-2"
      },
      "execution_count": null,
      "outputs": []
    },
    {
      "cell_type": "code",
      "source": [
        "playlist_id = '37i9dQZF1DX76Wlfdnj7AP'\n",
        "\n",
        "music_df = get_trending_playlist_data(playlist_id, access_token)\n",
        "\n",
        "print(music_df)"
      ],
      "metadata": {
        "colab": {
          "base_uri": "https://localhost:8080/"
        },
        "id": "HLqj-GppNE3I",
        "outputId": "b8b85be7-82b3-48c0-c9ff-8f3f43247ae7"
      },
      "execution_count": null,
      "outputs": [
        {
          "output_type": "stream",
          "name": "stdout",
          "text": [
            "                               Track Name  \\\n",
            "0                         I'm Good (Blue)   \n",
            "1                      Boy's a Liar Pt. 2   \n",
            "2   Quevedo: Bzrp Music Sessions, Vol. 52   \n",
            "3                         Me Porto Bonito   \n",
            "4                             El Merengue   \n",
            "..                                    ...   \n",
            "95                               PUNTO 40   \n",
            "96                   Marianela (Que Pasa)   \n",
            "97                   Lionheart (Fearless)   \n",
            "98      family ties (with Kendrick Lamar)   \n",
            "99              Levitating (feat. DaBaby)   \n",
            "\n",
            "                                     Artists  \\\n",
            "0                   David Guetta, Bebe Rexha   \n",
            "1                  PinkPantheress, Ice Spice   \n",
            "2                          Bizarrap, Quevedo   \n",
            "3                Bad Bunny, Chencho Corleone   \n",
            "4                  Marshmello, Manuel Turizo   \n",
            "..                                       ...   \n",
            "95                Rauw Alejandro, Baby Rasta   \n",
            "96  HUGEL, Merk & Kremont, Lirico En La Casa   \n",
            "97                   Joel Corry, Tom Grennan   \n",
            "98                 Baby Keem, Kendrick Lamar   \n",
            "99                          Dua Lipa, DaBaby   \n",
            "\n",
            "                               Album Name                Album ID  \\\n",
            "0                         I'm Good (Blue)  7M842DMhYVALrXsw3ty7B3   \n",
            "1                      Boy's a liar Pt. 2  6cVfHBcp3AdpYY0bBglkLN   \n",
            "2   Quevedo: Bzrp Music Sessions, Vol. 52  4PNqWiJAfjj32hVvlchV5u   \n",
            "3                        Un Verano Sin Ti  3RQQmkQEvNCY4prGKE6oc5   \n",
            "4                             El Merengue  6sU751LOdNBPvVErW1GunP   \n",
            "..                                    ...                     ...   \n",
            "95                               PUNTO 40  3wh0e8pRtMt4HLLUhUM6Hs   \n",
            "96                   Marianela (Que Pasa)  5As1VmPUMn4HIgYSbFD6l0   \n",
            "97                   Lionheart (Fearless)  68U7caniDmdQHifJdnlYFT   \n",
            "98      family ties (with Kendrick Lamar)  3HqmX8hGcbbQZODgayNEYx   \n",
            "99              Levitating (feat. DaBaby)  04m06KhJUuwe1Q487puIud   \n",
            "\n",
            "                  Track ID  Popularity Release Date  Duration (ms)  Explicit  \\\n",
            "0   4uUG5RXrOk84mYEfFvj3cK          94   2022-08-26         175238      True   \n",
            "1   6AQbmUe0Qwf5PZnt4HmTXv          93   2023-02-03         131013     False   \n",
            "2   2tTmW7RDtMQtBk7m2rYeSw          92   2022-07-06         198938     False   \n",
            "3   6Sq7ltF9Qa7SNFBsV5Cogx          92   2022-05-06         178567      True   \n",
            "4   51FvjPEGKq2zByeeEQ43V9          92   2023-03-03         189357     False   \n",
            "..                     ...         ...          ...            ...       ...   \n",
            "95  2TDyyEBasw10wu5Uh94bR1          77   2022-09-22         190654      True   \n",
            "96  5bZjb7xKqLqa58QiUBcVvl          77   2022-11-25         145766     False   \n",
            "97  5vlzH0ps6WDyb158oFTAb3          77   2022-10-21         186689     False   \n",
            "98  7Bpx2vsWfQFBACRz4h3IqH          77   2021-08-27         252070      True   \n",
            "99  463CkQjx2Zk1yXoBuierM9          77   2020-10-01         203064     False   \n",
            "\n",
            "                                        External URLs  ...  Energy  Key  \\\n",
            "0   https://open.spotify.com/track/4uUG5RXrOk84mYE...  ...   0.965    7   \n",
            "1   https://open.spotify.com/track/6AQbmUe0Qwf5PZn...  ...   0.809    5   \n",
            "2   https://open.spotify.com/track/2tTmW7RDtMQtBk7...  ...   0.782    2   \n",
            "3   https://open.spotify.com/track/6Sq7ltF9Qa7SNFB...  ...   0.712    1   \n",
            "4   https://open.spotify.com/track/51FvjPEGKq2zBye...  ...   0.677    8   \n",
            "..                                                ...  ...     ...  ...   \n",
            "95  https://open.spotify.com/track/2TDyyEBasw10wu5...  ...   0.826    0   \n",
            "96  https://open.spotify.com/track/5bZjb7xKqLqa58Q...  ...   0.893    1   \n",
            "97  https://open.spotify.com/track/5vlzH0ps6WDyb15...  ...   0.967    8   \n",
            "98  https://open.spotify.com/track/7Bpx2vsWfQFBACR...  ...   0.611    1   \n",
            "99  https://open.spotify.com/track/463CkQjx2Zk1yXo...  ...   0.825    6   \n",
            "\n",
            "    Loudness  Mode  Speechiness  Acousticness  Instrumentalness  Liveness  \\\n",
            "0     -3.673     0       0.0343       0.00383          0.000007    0.3710   \n",
            "1     -8.254     1       0.0500       0.25200          0.000128    0.2480   \n",
            "2     -5.548     1       0.0440       0.01250          0.033000    0.2300   \n",
            "3     -5.105     0       0.0817       0.09010          0.000027    0.0933   \n",
            "4     -4.703     0       0.0442       0.03130          0.005170    0.1120   \n",
            "..       ...   ...          ...           ...               ...       ...   \n",
            "95    -0.722     1       0.0876       0.00127          0.036100    0.3110   \n",
            "96    -3.344     1       0.0496       0.03300          0.005350    0.0811   \n",
            "97    -2.430     1       0.0538       0.02170          0.001570    0.3360   \n",
            "98    -5.453     1       0.3290       0.00575          0.000000    0.2310   \n",
            "99    -3.787     0       0.0601       0.00883          0.000000    0.0674   \n",
            "\n",
            "    Valence    Tempo  \n",
            "0     0.304  128.040  \n",
            "1     0.857  132.962  \n",
            "2     0.550  128.033  \n",
            "3     0.425   92.005  \n",
            "4     0.698  124.011  \n",
            "..      ...      ...  \n",
            "95    0.201  106.972  \n",
            "96    0.602  124.043  \n",
            "97    0.349  125.982  \n",
            "98    0.144  134.140  \n",
            "99    0.915  102.977  \n",
            "\n",
            "[100 rows x 21 columns]\n"
          ]
        }
      ]
    },
    {
      "cell_type": "code",
      "source": [
        "print(music_df.isnull().sum())"
      ],
      "metadata": {
        "colab": {
          "base_uri": "https://localhost:8080/"
        },
        "id": "fd6t8PejTAak",
        "outputId": "e974d507-3255-4b2a-9ce0-452e4ec66225"
      },
      "execution_count": null,
      "outputs": [
        {
          "output_type": "stream",
          "name": "stdout",
          "text": [
            "Track Name          0\n",
            "Artists             0\n",
            "Album Name          0\n",
            "Album ID            0\n",
            "Track ID            0\n",
            "Popularity          0\n",
            "Release Date        0\n",
            "Duration (ms)       0\n",
            "Explicit            0\n",
            "External URLs       0\n",
            "Danceability        0\n",
            "Energy              0\n",
            "Key                 0\n",
            "Loudness            0\n",
            "Mode                0\n",
            "Speechiness         0\n",
            "Acousticness        0\n",
            "Instrumentalness    0\n",
            "Liveness            0\n",
            "Valence             0\n",
            "Tempo               0\n",
            "dtype: int64\n"
          ]
        }
      ]
    },
    {
      "cell_type": "markdown",
      "source": [
        "### **Now, let’s move further to building a music recommendation system**"
      ],
      "metadata": {
        "id": "bLrhEcTjTMPT"
      }
    },
    {
      "cell_type": "code",
      "source": [
        "! pip install -U scikit-learn"
      ],
      "metadata": {
        "colab": {
          "base_uri": "https://localhost:8080/"
        },
        "id": "2oR4LPXeafZr",
        "outputId": "d71e150a-dd11-4fbf-e67c-4d966732d460"
      },
      "execution_count": null,
      "outputs": [
        {
          "output_type": "stream",
          "name": "stdout",
          "text": [
            "Requirement already satisfied: scikit-learn in /usr/local/lib/python3.10/dist-packages (1.3.0)\n",
            "Requirement already satisfied: numpy>=1.17.3 in /usr/local/lib/python3.10/dist-packages (from scikit-learn) (1.22.4)\n",
            "Requirement already satisfied: scipy>=1.5.0 in /usr/local/lib/python3.10/dist-packages (from scikit-learn) (1.10.1)\n",
            "Requirement already satisfied: joblib>=1.1.1 in /usr/local/lib/python3.10/dist-packages (from scikit-learn) (1.3.1)\n",
            "Requirement already satisfied: threadpoolctl>=2.0.0 in /usr/local/lib/python3.10/dist-packages (from scikit-learn) (3.2.0)\n"
          ]
        }
      ]
    },
    {
      "cell_type": "code",
      "source": [
        "import pandas as pd\n",
        "import numpy as np\n",
        "from sklearn.model_selection import train_test_split\n",
        "from sklearn.preprocessing import MinMaxScaler\n",
        "from datetime import datetime\n",
        "from sklearn.metrics.pairwise import cosine_similarity\n",
        "\n",
        "data = music_df\n"
      ],
      "metadata": {
        "id": "EYzFcwLQTTki"
      },
      "execution_count": null,
      "outputs": []
    },
    {
      "cell_type": "markdown",
      "source": [
        "### **While providing music recommendations to users, it is important to recommend the latest releases. For this, we need to give more weight to the latest releases in the recommendations.**"
      ],
      "metadata": {
        "id": "9fl_-JQEVjoz"
      }
    },
    {
      "cell_type": "code",
      "source": [
        "# Function to calculate weighted popularity scores based on release date\n",
        "def calculate_weighted_popularity(release_date):\n",
        "  # convert the release date to datetime  object\n",
        "  release_date = datetime.strptime(release_date,'%Y-%m-%d')\n",
        "\n",
        "  # calculate the time span between the release date and today\n",
        "  time_span = datetime.now() - release_date\n",
        "\n",
        "  # Calculate the weighted popularity score based on time span (e.g., more recent releases have higher weight)\n",
        "  weight = 1/(time_span.days+1)\n",
        "\n",
        "  return weight"
      ],
      "metadata": {
        "id": "CSqnC4pCVmtI"
      },
      "execution_count": null,
      "outputs": []
    },
    {
      "cell_type": "code",
      "source": [
        "# Normalize the music features using Min-Max scaling\n",
        "\n",
        "scaler = MinMaxScaler()\n",
        "music_features = music_df[['Danceability', 'Energy', 'Key',\n",
        "                           'Loudness', 'Mode', 'Speechiness', 'Acousticness',\n",
        "                           'Instrumentalness', 'Liveness', 'Valence', 'Tempo']].values\n",
        "\n",
        "music_features_scaled = scaler.fit_transform(music_features)\n",
        "print(music_features_scaled)"
      ],
      "metadata": {
        "colab": {
          "base_uri": "https://localhost:8080/"
        },
        "id": "eUghbi1MYtIH",
        "outputId": "e4ff9d30-ab75-4ae2-cc23-fe172c57bb16"
      },
      "execution_count": null,
      "outputs": [
        {
          "output_type": "stream",
          "name": "stdout",
          "text": [
            "[[0.16025641 0.9880137  0.63636364 ... 0.44326335 0.2844135  0.56805142]\n",
            " [0.44871795 0.72089041 0.45454545 ... 0.27982992 0.87680771 0.60995148]\n",
            " [0.28846154 0.67465753 0.18181818 ... 0.25591284 0.54793787 0.56799183]\n",
            " ...\n",
            " [0.3034188  0.99143836 0.72727273 ... 0.39675791 0.33261918 0.55053205]\n",
            " [0.48076923 0.38184932 0.09090909 ... 0.25724156 0.11301553 0.61997957]\n",
            " [0.46153846 0.74828767 0.54545455 ... 0.03986181 0.93893948 0.35469482]]\n"
          ]
        }
      ]
    },
    {
      "cell_type": "markdown",
      "source": [
        "### **Generate music recommendations based on the music audio features**"
      ],
      "metadata": {
        "id": "2SqqQu-6b8wX"
      }
    },
    {
      "cell_type": "code",
      "source": [
        "# a function to get content-based recommendations based on music features\n",
        "def content_based_recommendations(input_song_name, num_recommendations=5):\n",
        "    if input_song_name not in music_df['Track Name'].values:\n",
        "        print(f\"'{input_song_name}' not found in the dataset. Please enter a valid song name.\")\n",
        "        return\n",
        "\n",
        "    # Get the index of the input song in the music DataFrame\n",
        "    input_song_index = music_df[music_df['Track Name'] == input_song_name].index[0]\n",
        "\n",
        "    # Calculate the similarity scores based on music features (cosine similarity)\n",
        "    similarity_scores = cosine_similarity([music_features_scaled[input_song_index]], music_features_scaled)\n",
        "\n",
        "    # Get the indices of the most similar songs\n",
        "    similar_song_indices = similarity_scores.argsort()[0][::-1][1:num_recommendations + 1]\n",
        "\n",
        "    # Get the names of the most similar songs based on content-based filtering\n",
        "    content_based_recommendations = music_df.iloc[similar_song_indices][['Track Name', 'Artists', 'Album Name', 'Release Date', 'Popularity']]\n",
        "\n",
        "    return content_based_recommendations"
      ],
      "metadata": {
        "id": "7IqAMO0ncBTJ"
      },
      "execution_count": null,
      "outputs": []
    },
    {
      "cell_type": "code",
      "source": [
        "# a function to get hybrid recommendations based on weighted popularity\n",
        "def hybrid_recommendations(input_song_name, num_recommendations=5, alpha=0.5):\n",
        "    if input_song_name not in music_df['Track Name'].values:\n",
        "        print(f\"'{input_song_name}' not found in the dataset. Please enter a valid song name.\")\n",
        "        return\n",
        "\n",
        "    # Get content-based recommendations\n",
        "    content_based_rec = content_based_recommendations(input_song_name, num_recommendations)\n",
        "\n",
        "    # Get the popularity score of the input song\n",
        "    popularity_score = music_df.loc[music_df['Track Name'] == input_song_name, 'Popularity'].values[0]\n",
        "\n",
        "    # Calculate the weighted popularity score\n",
        "    weighted_popularity_score = popularity_score * calculate_weighted_popularity(music_df.loc[music_df['Track Name'] == input_song_name, 'Release Date'].values[0])\n",
        "\n",
        "    # Combine content-based and popularity-based recommendations based on weighted popularity\n",
        "    hybrid_recommendations = content_based_rec\n",
        "    hybrid_recommendations = hybrid_recommendations.append({\n",
        "        'Track Name': input_song_name,\n",
        "        'Artists': music_df.loc[music_df['Track Name'] == input_song_name, 'Artists'].values[0],\n",
        "        'Album Name': music_df.loc[music_df['Track Name'] == input_song_name, 'Album Name'].values[0],\n",
        "        'Release Date': music_df.loc[music_df['Track Name'] == input_song_name, 'Release Date'].values[0],\n",
        "        'Popularity': weighted_popularity_score\n",
        "    }, ignore_index=True)\n",
        "\n",
        "    # Sort the hybrid recommendations based on weighted popularity score\n",
        "    hybrid_recommendations = hybrid_recommendations.sort_values(by='Popularity', ascending=False)\n",
        "\n",
        "    # Remove the input song from the recommendations\n",
        "    hybrid_recommendations = hybrid_recommendations[hybrid_recommendations['Track Name'] != input_song_name]\n",
        "\n",
        "\n",
        "    return hybrid_recommendations"
      ],
      "metadata": {
        "id": "jAFloTUegv8O"
      },
      "execution_count": null,
      "outputs": []
    },
    {
      "cell_type": "code",
      "source": [
        "input_song_name = \"Call It Love\"\n",
        "recommendations = hybrid_recommendations(input_song_name, num_recommendations=10)\n",
        "print(f\"Hybrid recommended songs for \\'{input_song_name}\\':\")\n",
        "print(recommendations)"
      ],
      "metadata": {
        "colab": {
          "base_uri": "https://localhost:8080/"
        },
        "id": "d5aIZ5CMmFaF",
        "outputId": "a49f21a3-d415-4c11-cd64-716e13170b25"
      },
      "execution_count": null,
      "outputs": [
        {
          "output_type": "stream",
          "name": "stdout",
          "text": [
            "Hybrid recommended songs for 'Call It Love':\n",
            "                                   Track Name  \\\n",
            "7                             I'm Good (Blue)   \n",
            "2                                  BABY HELLO   \n",
            "8                                     Lay Low   \n",
            "1  Bad Memories (feat. Elley Duhé & FAST BOY)   \n",
            "0                      Mood (feat. iann dior)   \n",
            "9                                       REACT   \n",
            "4              Where Did You Go? (feat. MNEK)   \n",
            "6                               All By Myself   \n",
            "3                       Rainfall (Praise You)   \n",
            "5                   Levitating (feat. DaBaby)   \n",
            "\n",
            "                                      Artists  \\\n",
            "7                    David Guetta, Bebe Rexha   \n",
            "2                    Rauw Alejandro, Bizarrap   \n",
            "8                                      Tiësto   \n",
            "1  MEDUZA, James Carter, Elley Duhé, FAST BOY   \n",
            "0                         24kGoldn, iann dior   \n",
            "9  Switch Disco, Ella Henderson, Robert Miles   \n",
            "4                             Jax Jones, MNEK   \n",
            "6                Alok, Sigala, Ellie Goulding   \n",
            "3                                   Tom Santa   \n",
            "5                            Dua Lipa, DaBaby   \n",
            "\n",
            "                                   Album Name Release Date  Popularity  \n",
            "7                             I'm Good (Blue)   2022-08-26        94.0  \n",
            "2                                  BABY HELLO   2023-06-23        90.0  \n",
            "8                                     Lay Low   2023-01-06        87.0  \n",
            "1  Bad Memories (feat. Elley Duhé & FAST BOY)   2022-07-22        86.0  \n",
            "0                                   El Dorado   2021-03-26        84.0  \n",
            "9                                       REACT   2023-01-13        83.0  \n",
            "4               Where Did You Go (feat. MNEK)   2022-02-04        81.0  \n",
            "6                               All By Myself   2022-10-07        79.0  \n",
            "3                       Rainfall (Praise You)   2022-02-18        78.0  \n",
            "5                   Levitating (feat. DaBaby)   2020-10-01        77.0  \n"
          ]
        },
        {
          "output_type": "stream",
          "name": "stderr",
          "text": [
            "<ipython-input-36-3de633f34e34>:18: FutureWarning: The frame.append method is deprecated and will be removed from pandas in a future version. Use pandas.concat instead.\n",
            "  hybrid_recommendations = hybrid_recommendations.append({\n"
          ]
        }
      ]
    }
  ]
}